{
  "nbformat": 4,
  "nbformat_minor": 0,
  "metadata": {
    "colab": {
      "provenance": []
    },
    "kernelspec": {
      "name": "python3",
      "display_name": "Python 3"
    },
    "language_info": {
      "name": "python"
    }
  },
  "cells": [
    {
      "cell_type": "code",
      "execution_count": 1,
      "metadata": {
        "colab": {
          "base_uri": "https://localhost:8080/"
        },
        "id": "HRuxo9U7vI9g",
        "outputId": "6d3fe457-dfc0-40bb-92bb-867e63433ac2"
      },
      "outputs": [
        {
          "output_type": "stream",
          "name": "stdout",
          "text": [
            "--2022-12-11 15:11:05--  https://www.dropbox.com/s/pdhwlpi2yeie0ol/movie-reviews-dataset.zip\n",
            "Resolving www.dropbox.com (www.dropbox.com)... 162.125.85.18, 2620:100:6035:18::a27d:5512\n",
            "Connecting to www.dropbox.com (www.dropbox.com)|162.125.85.18|:443... connected.\n",
            "HTTP request sent, awaiting response... 302 Found\n",
            "Location: /s/raw/pdhwlpi2yeie0ol/movie-reviews-dataset.zip [following]\n",
            "--2022-12-11 15:11:06--  https://www.dropbox.com/s/raw/pdhwlpi2yeie0ol/movie-reviews-dataset.zip\n",
            "Reusing existing connection to www.dropbox.com:443.\n",
            "HTTP request sent, awaiting response... 302 Found\n",
            "Location: https://ucb1bce0516f3c3d5ba56f636ecd.dl.dropboxusercontent.com/cd/0/inline/Bybd0SZs0R92qPBjO-0H6Hhtwppns5iFGgqEZd9D-KeNaZmtIYaTnSIOxEaiE5V4TEqjhYemcqp5DLvbgluuzeFPAbYlJbMdVJHGOVAT0qqp4dbhs7mvz7nwRq3Al9m7jZAaY9hw3GSn16AmpzYf_RDLMj8YnvMpAVRQy0PuRik9vA/file# [following]\n",
            "--2022-12-11 15:11:06--  https://ucb1bce0516f3c3d5ba56f636ecd.dl.dropboxusercontent.com/cd/0/inline/Bybd0SZs0R92qPBjO-0H6Hhtwppns5iFGgqEZd9D-KeNaZmtIYaTnSIOxEaiE5V4TEqjhYemcqp5DLvbgluuzeFPAbYlJbMdVJHGOVAT0qqp4dbhs7mvz7nwRq3Al9m7jZAaY9hw3GSn16AmpzYf_RDLMj8YnvMpAVRQy0PuRik9vA/file\n",
            "Resolving ucb1bce0516f3c3d5ba56f636ecd.dl.dropboxusercontent.com (ucb1bce0516f3c3d5ba56f636ecd.dl.dropboxusercontent.com)... 162.125.85.15, 2620:100:6035:15::a27d:550f\n",
            "Connecting to ucb1bce0516f3c3d5ba56f636ecd.dl.dropboxusercontent.com (ucb1bce0516f3c3d5ba56f636ecd.dl.dropboxusercontent.com)|162.125.85.15|:443... connected.\n",
            "HTTP request sent, awaiting response... 302 Found\n",
            "Location: /cd/0/inline2/ByaoNBhHUFIA6qbfKXT8a_lJstQBh2DAW1XpgGKSFkcEXj-tGwregSmoxKT-tzO43NXsz5VmtYzTa6SKXajr2z-pJV04ZR6ZU3DwtwIU3B9JqlPj3j5j21tKNiXmvT9cYKc37dDdd708B7SfTYn2AgnJz7Uk6BDysFEnvpJM552_NvO9j8UTTFnD46ypTsF2V1-I0BsHPjiM-e6tPg3K5V8jEMe6xYLAm_s8QrYJFJohNgnxRmxKg1OsZrh_BAipcCpRtEB2uh-hzRRXbmt8cGzKgzZMHGx1aMIGXiCL-DN1HSd03PdW4hlp8BOPfMuExgOPFEfegt8i9fQjyAMw2_N3qFGVGvP7QUbWz5jEo966WbUBn_8osxInVZMsH11b2n5vw_5QhWCmCw3tX7Bo3INoRTm1rMvqDQt689ITCMZyJw/file [following]\n",
            "--2022-12-11 15:11:07--  https://ucb1bce0516f3c3d5ba56f636ecd.dl.dropboxusercontent.com/cd/0/inline2/ByaoNBhHUFIA6qbfKXT8a_lJstQBh2DAW1XpgGKSFkcEXj-tGwregSmoxKT-tzO43NXsz5VmtYzTa6SKXajr2z-pJV04ZR6ZU3DwtwIU3B9JqlPj3j5j21tKNiXmvT9cYKc37dDdd708B7SfTYn2AgnJz7Uk6BDysFEnvpJM552_NvO9j8UTTFnD46ypTsF2V1-I0BsHPjiM-e6tPg3K5V8jEMe6xYLAm_s8QrYJFJohNgnxRmxKg1OsZrh_BAipcCpRtEB2uh-hzRRXbmt8cGzKgzZMHGx1aMIGXiCL-DN1HSd03PdW4hlp8BOPfMuExgOPFEfegt8i9fQjyAMw2_N3qFGVGvP7QUbWz5jEo966WbUBn_8osxInVZMsH11b2n5vw_5QhWCmCw3tX7Bo3INoRTm1rMvqDQt689ITCMZyJw/file\n",
            "Reusing existing connection to ucb1bce0516f3c3d5ba56f636ecd.dl.dropboxusercontent.com:443.\n",
            "HTTP request sent, awaiting response... 200 OK\n",
            "Length: 62951389 (60M) [application/zip]\n",
            "Saving to: ‘movie-reviews-dataset.zip’\n",
            "\n",
            "movie-reviews-datas 100%[===================>]  60.03M  20.8MB/s    in 2.9s    \n",
            "\n",
            "2022-12-11 15:11:10 (20.8 MB/s) - ‘movie-reviews-dataset.zip’ saved [62951389/62951389]\n",
            "\n"
          ]
        }
      ],
      "source": [
        "# upload dataset\n",
        "!wget https://www.dropbox.com/s/pdhwlpi2yeie0ol/movie-reviews-dataset.zip"
      ]
    },
    {
      "cell_type": "code",
      "source": [
        "# unzip file \n",
        "! unzip -q \"/content/movie-reviews-dataset.zip\""
      ],
      "metadata": {
        "id": "ppU39dbnvTG_"
      },
      "execution_count": 3,
      "outputs": []
    },
    {
      "cell_type": "code",
      "source": [
        "from tensorflow.keras.preprocessing import text_dataset_from_directory\n",
        "from tensorflow.strings import regex_replace\n",
        "from tensorflow.keras.layers.experimental.preprocessing import TextVectorization\n",
        "from tensorflow.keras.models import Sequential\n",
        "from tensorflow.keras import Input\n",
        "from tensorflow.keras.layers import Dense, GRU, Embedding, Dropout, Bidirectional"
      ],
      "metadata": {
        "id": "h6dvdBwAvayN"
      },
      "execution_count": 4,
      "outputs": []
    },
    {
      "cell_type": "code",
      "source": [
        "# prepar Data\n",
        "def prepareData(dir):\n",
        "    data = text_dataset_from_directory(dir)\n",
        "    return data.map(\n",
        "        lambda text, label: (regex_replace(text, 'br />', ''), label),\n",
        "    )"
      ],
      "metadata": {
        "id": "ZSZhMlQpwU79"
      },
      "execution_count": 9,
      "outputs": []
    },
    {
      "cell_type": "code",
      "source": [
        "# split data\n",
        "train_data = prepareData(\"movie-reviews-dataset/train\")\n",
        "test_data = prepareData(\"movie-reviews-dataset/test\")\n",
        "\n",
        "for text_batch, label_batch in train_data.take(1):\n",
        "    print(text_batch.numpy()[0])\n",
        "    print(label_batch.numpy()[0])\n"
      ],
      "metadata": {
        "colab": {
          "base_uri": "https://localhost:8080/"
        },
        "id": "vf8RvOFLzXRc",
        "outputId": "378b7a24-b346-42c8-9a88-8a199b79eafe"
      },
      "execution_count": 10,
      "outputs": [
        {
          "output_type": "stream",
          "name": "stdout",
          "text": [
            "Found 25000 files belonging to 2 classes.\n",
            "Found 25000 files belonging to 2 classes.\n",
            "b\"First of all.....<<What the hell? Why in the world are they trying to sell a low budget piece of crap on late night TV with the promise of disturbing, offensive sick garbage that any normal real human being with a soul couldn't watch. <<What the crap is funny about a dog being injured, a grandma getting her head knocked off...a guy getting his hand blown to pieces and two girls going to the bathroom? what in the hell has this world come to that people find comedy in some thing so completely sick. Anyone who thinks this kind of material is funny, should not even be allowed to walk the earth. <<But from what I hear its not even offensive...so...they promise comedy through demented piles of sick garbage...and they cant even pull that off.\"\n",
            "0\n"
          ]
        }
      ]
    },
    {
      "cell_type": "code",
      "source": [
        "# model \n",
        "model = Sequential()\n",
        "model.add(Input(shape=(1,), dtype=\"string\"))"
      ],
      "metadata": {
        "id": "rgbItLIf0LtN"
      },
      "execution_count": 11,
      "outputs": []
    },
    {
      "cell_type": "code",
      "source": [
        "max_tokens = 1000\n",
        "max_len = 100\n",
        "vectorize_layer = TextVectorization(\n",
        "  max_tokens=max_tokens,\n",
        "  output_mode=\"int\",\n",
        "  output_sequence_length=max_len,\n",
        ")"
      ],
      "metadata": {
        "id": "_f8ZyGdq0kSO"
      },
      "execution_count": 16,
      "outputs": []
    },
    {
      "cell_type": "code",
      "source": [
        "train_texts = train_data.map(lambda text, label: text)\n",
        "vectorize_layer.adapt(train_texts)\n",
        "\n",
        "model.add(vectorize_layer)"
      ],
      "metadata": {
        "id": "kyuik79a1vNW"
      },
      "execution_count": 17,
      "outputs": []
    },
    {
      "cell_type": "code",
      "source": [
        "model.add(Embedding(max_tokens + 1, 128))\n",
        "\n",
        "rnn = RNN(SimpleRNNCell(64), return_sequences=False, return_state=False)\n",
        "model.add(Bidirectional(GRU(64)))\n",
        "model.add(rnn)\n",
        "model.add(Dense(1, activation=\"sigmoid\"))"
      ],
      "metadata": {
        "id": "8KU4yTV12IVU"
      },
      "execution_count": 18,
      "outputs": []
    },
    {
      "cell_type": "code",
      "source": [
        "model.compile(loss=\"binary_crossentropy\", optimizer=\"adam\", metrics=[\"accuracy\"])"
      ],
      "metadata": {
        "id": "4GFJowqX2m2d"
      },
      "execution_count": 19,
      "outputs": []
    },
    {
      "cell_type": "code",
      "source": [
        "model.fit(train_data, epochs=10)"
      ],
      "metadata": {
        "colab": {
          "base_uri": "https://localhost:8080/"
        },
        "id": "_robwo6Z2z1N",
        "outputId": "14ce6b1c-9529-4d6f-b2a2-1899aec98c20"
      },
      "execution_count": 20,
      "outputs": [
        {
          "output_type": "stream",
          "name": "stdout",
          "text": [
            "Epoch 1/10\n",
            "782/782 [==============================] - 105s 128ms/step - loss: 0.5462 - accuracy: 0.7100\n",
            "Epoch 2/10\n",
            "782/782 [==============================] - 101s 129ms/step - loss: 0.4335 - accuracy: 0.7994\n",
            "Epoch 3/10\n",
            "782/782 [==============================] - 101s 130ms/step - loss: 0.3937 - accuracy: 0.8208\n",
            "Epoch 4/10\n",
            "782/782 [==============================] - 101s 130ms/step - loss: 0.3628 - accuracy: 0.8364\n",
            "Epoch 5/10\n",
            "782/782 [==============================] - 102s 130ms/step - loss: 0.3341 - accuracy: 0.8523\n",
            "Epoch 6/10\n",
            "782/782 [==============================] - 103s 132ms/step - loss: 0.3040 - accuracy: 0.8658\n",
            "Epoch 7/10\n",
            "782/782 [==============================] - 101s 129ms/step - loss: 0.2751 - accuracy: 0.8804\n",
            "Epoch 8/10\n",
            "782/782 [==============================] - 103s 132ms/step - loss: 0.2431 - accuracy: 0.8972\n",
            "Epoch 9/10\n",
            "782/782 [==============================] - 101s 128ms/step - loss: 0.2149 - accuracy: 0.9082\n",
            "Epoch 10/10\n",
            "782/782 [==============================] - 102s 130ms/step - loss: 0.1841 - accuracy: 0.9232\n"
          ]
        },
        {
          "output_type": "execute_result",
          "data": {
            "text/plain": [
              "<keras.callbacks.History at 0x7f0954843f10>"
            ]
          },
          "metadata": {},
          "execution_count": 20
        }
      ]
    },
    {
      "cell_type": "code",
      "source": [
        "model.evaluate(test_data)"
      ],
      "metadata": {
        "colab": {
          "base_uri": "https://localhost:8080/"
        },
        "id": "WfS3xa1O23X7",
        "outputId": "697afff6-f636-42bd-d493-28daa59d1d5b"
      },
      "execution_count": 22,
      "outputs": [
        {
          "output_type": "stream",
          "name": "stdout",
          "text": [
            "782/782 [==============================] - 31s 39ms/step - loss: 0.7387 - accuracy: 0.7666\n"
          ]
        },
        {
          "output_type": "execute_result",
          "data": {
            "text/plain": [
              "[0.7386775612831116, 0.7666000127792358]"
            ]
          },
          "metadata": {},
          "execution_count": 22
        }
      ]
    },
    {
      "cell_type": "code",
      "source": [
        "text = \"I loved the movie !\""
      ],
      "metadata": {
        "id": "ULZJ-Jtr3q7U"
      },
      "execution_count": 23,
      "outputs": []
    },
    {
      "cell_type": "code",
      "source": [
        "model.predict([text])"
      ],
      "metadata": {
        "colab": {
          "base_uri": "https://localhost:8080/"
        },
        "id": "e0dWg4rn3uVc",
        "outputId": "8626a58c-6746-4894-994d-b8f4d483c140"
      },
      "execution_count": 24,
      "outputs": [
        {
          "output_type": "stream",
          "name": "stdout",
          "text": [
            "1/1 [==============================] - 1s 829ms/step\n"
          ]
        },
        {
          "output_type": "execute_result",
          "data": {
            "text/plain": [
              "array([[0.9984604]], dtype=float32)"
            ]
          },
          "metadata": {},
          "execution_count": 24
        }
      ]
    }
  ]
}